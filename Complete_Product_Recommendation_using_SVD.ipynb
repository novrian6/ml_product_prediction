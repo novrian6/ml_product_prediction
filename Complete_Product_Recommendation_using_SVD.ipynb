{
  "nbformat": 4,
  "nbformat_minor": 0,
  "metadata": {
    "colab": {
      "provenance": [],
      "authorship_tag": "ABX9TyPb4EKBLD10k2B4Hy2jr24l",
      "include_colab_link": true
    },
    "kernelspec": {
      "name": "python3",
      "display_name": "Python 3"
    },
    "language_info": {
      "name": "python"
    }
  },
  "cells": [
    {
      "cell_type": "markdown",
      "metadata": {
        "id": "view-in-github",
        "colab_type": "text"
      },
      "source": [
        "<a href=\"https://colab.research.google.com/github/novrian6/ml_product_prediction/blob/main/Complete_Product_Recommendation_using_SVD.ipynb\" target=\"_parent\"><img src=\"https://colab.research.google.com/assets/colab-badge.svg\" alt=\"Open In Colab\"/></a>"
      ]
    },
    {
      "cell_type": "markdown",
      "source": [
        "### Programmed by Nova Novriansyah\n",
        "### Created at: 26 December 2023 21:30\n",
        "### Note:\n",
        "####1.The following code will create a model using merged data provided (merged.csv). The output of the training will be saved as collab_filtering_model.pkl. The data is merging of 3 files (product_details, purchase_history_customer_interactions), and flatten to be used by ML model training.\n",
        "####2.ML Algorithm: Due to small amount of data had, and understanding the  features/columns on the data, the algorithm used is collaborative filtering using SVD (Singular Value Decomposition).  \n",
        "###3. Deep learning is not possible in this case (amount of data),   to get more accurate prediction might be possible using Deep Learning (RNN/LSTM) if more data provided.\n"
      ],
      "metadata": {
        "id": "yF42ZzLkwEYo"
      }
    },
    {
      "cell_type": "code",
      "source": [],
      "metadata": {
        "id": "e0NGC_y9OrrI"
      },
      "execution_count": 121,
      "outputs": []
    },
    {
      "cell_type": "markdown",
      "source": [
        "##1. Load Library"
      ],
      "metadata": {
        "id": "oyF3-BIEMZ0U"
      }
    },
    {
      "cell_type": "code",
      "source": [
        "#unmark and run below line if surprise is not installed\n",
        "#!pip install surprise"
      ],
      "metadata": {
        "id": "I185Av25j0ye"
      },
      "execution_count": 122,
      "outputs": []
    },
    {
      "cell_type": "code",
      "source": [
        "from surprise import Dataset\n",
        "from surprise import Reader\n",
        "from surprise import SVD\n",
        "from surprise.model_selection import train_test_split\n",
        "from surprise import accuracy\n",
        "import pandas as pd"
      ],
      "metadata": {
        "id": "T__eKbBxkqFm"
      },
      "execution_count": 174,
      "outputs": []
    },
    {
      "cell_type": "markdown",
      "source": [
        "##2. Load and preprocess Data as Dataframe"
      ],
      "metadata": {
        "id": "Yurhd0IuwL3A"
      }
    },
    {
      "cell_type": "code",
      "source": [
        "# Load data as data frame\n",
        "# The data is merging of 3 files (product_details, purchase_history_customer_interactions), and flatten to be used by ML model training.\n",
        "df = pd.read_csv(\"merged_data.csv\")\n",
        "df"
      ],
      "metadata": {
        "colab": {
          "base_uri": "https://localhost:8080/",
          "height": 274
        },
        "id": "bu2eZuIGkrej",
        "outputId": "699a7a65-a2e8-45dd-d91f-99c697a65504"
      },
      "execution_count": 175,
      "outputs": [
        {
          "output_type": "execute_result",
          "data": {
            "text/plain": [
              "   customer_id  product_id purchase_date  page_views  time_spent  \\\n",
              "0            1         101    2023-01-01          25         120   \n",
              "1            1         105    2023-01-05          25         120   \n",
              "2            2         102    2023-01-02          20          90   \n",
              "3            3         103    2023-01-03          30         150   \n",
              "4            4         104    2023-01-04          15          80   \n",
              "5            5         101    2023-01-05          22         110   \n",
              "\n",
              "         category  price  ratings  \n",
              "0     Electronics    500      4.5  \n",
              "1     Electronics    800      4.8  \n",
              "2        Clothing     50      3.8  \n",
              "3  Home & Kitchen    200      4.2  \n",
              "4          Beauty     30      4.0  \n",
              "5     Electronics    500      4.5  "
            ],
            "text/html": [
              "\n",
              "  <div id=\"df-15161492-13c5-4923-bfc9-5b058e772149\" class=\"colab-df-container\">\n",
              "    <div>\n",
              "<style scoped>\n",
              "    .dataframe tbody tr th:only-of-type {\n",
              "        vertical-align: middle;\n",
              "    }\n",
              "\n",
              "    .dataframe tbody tr th {\n",
              "        vertical-align: top;\n",
              "    }\n",
              "\n",
              "    .dataframe thead th {\n",
              "        text-align: right;\n",
              "    }\n",
              "</style>\n",
              "<table border=\"1\" class=\"dataframe\">\n",
              "  <thead>\n",
              "    <tr style=\"text-align: right;\">\n",
              "      <th></th>\n",
              "      <th>customer_id</th>\n",
              "      <th>product_id</th>\n",
              "      <th>purchase_date</th>\n",
              "      <th>page_views</th>\n",
              "      <th>time_spent</th>\n",
              "      <th>category</th>\n",
              "      <th>price</th>\n",
              "      <th>ratings</th>\n",
              "    </tr>\n",
              "  </thead>\n",
              "  <tbody>\n",
              "    <tr>\n",
              "      <th>0</th>\n",
              "      <td>1</td>\n",
              "      <td>101</td>\n",
              "      <td>2023-01-01</td>\n",
              "      <td>25</td>\n",
              "      <td>120</td>\n",
              "      <td>Electronics</td>\n",
              "      <td>500</td>\n",
              "      <td>4.5</td>\n",
              "    </tr>\n",
              "    <tr>\n",
              "      <th>1</th>\n",
              "      <td>1</td>\n",
              "      <td>105</td>\n",
              "      <td>2023-01-05</td>\n",
              "      <td>25</td>\n",
              "      <td>120</td>\n",
              "      <td>Electronics</td>\n",
              "      <td>800</td>\n",
              "      <td>4.8</td>\n",
              "    </tr>\n",
              "    <tr>\n",
              "      <th>2</th>\n",
              "      <td>2</td>\n",
              "      <td>102</td>\n",
              "      <td>2023-01-02</td>\n",
              "      <td>20</td>\n",
              "      <td>90</td>\n",
              "      <td>Clothing</td>\n",
              "      <td>50</td>\n",
              "      <td>3.8</td>\n",
              "    </tr>\n",
              "    <tr>\n",
              "      <th>3</th>\n",
              "      <td>3</td>\n",
              "      <td>103</td>\n",
              "      <td>2023-01-03</td>\n",
              "      <td>30</td>\n",
              "      <td>150</td>\n",
              "      <td>Home &amp; Kitchen</td>\n",
              "      <td>200</td>\n",
              "      <td>4.2</td>\n",
              "    </tr>\n",
              "    <tr>\n",
              "      <th>4</th>\n",
              "      <td>4</td>\n",
              "      <td>104</td>\n",
              "      <td>2023-01-04</td>\n",
              "      <td>15</td>\n",
              "      <td>80</td>\n",
              "      <td>Beauty</td>\n",
              "      <td>30</td>\n",
              "      <td>4.0</td>\n",
              "    </tr>\n",
              "    <tr>\n",
              "      <th>5</th>\n",
              "      <td>5</td>\n",
              "      <td>101</td>\n",
              "      <td>2023-01-05</td>\n",
              "      <td>22</td>\n",
              "      <td>110</td>\n",
              "      <td>Electronics</td>\n",
              "      <td>500</td>\n",
              "      <td>4.5</td>\n",
              "    </tr>\n",
              "  </tbody>\n",
              "</table>\n",
              "</div>\n",
              "    <div class=\"colab-df-buttons\">\n",
              "\n",
              "  <div class=\"colab-df-container\">\n",
              "    <button class=\"colab-df-convert\" onclick=\"convertToInteractive('df-15161492-13c5-4923-bfc9-5b058e772149')\"\n",
              "            title=\"Convert this dataframe to an interactive table.\"\n",
              "            style=\"display:none;\">\n",
              "\n",
              "  <svg xmlns=\"http://www.w3.org/2000/svg\" height=\"24px\" viewBox=\"0 -960 960 960\">\n",
              "    <path d=\"M120-120v-720h720v720H120Zm60-500h600v-160H180v160Zm220 220h160v-160H400v160Zm0 220h160v-160H400v160ZM180-400h160v-160H180v160Zm440 0h160v-160H620v160ZM180-180h160v-160H180v160Zm440 0h160v-160H620v160Z\"/>\n",
              "  </svg>\n",
              "    </button>\n",
              "\n",
              "  <style>\n",
              "    .colab-df-container {\n",
              "      display:flex;\n",
              "      gap: 12px;\n",
              "    }\n",
              "\n",
              "    .colab-df-convert {\n",
              "      background-color: #E8F0FE;\n",
              "      border: none;\n",
              "      border-radius: 50%;\n",
              "      cursor: pointer;\n",
              "      display: none;\n",
              "      fill: #1967D2;\n",
              "      height: 32px;\n",
              "      padding: 0 0 0 0;\n",
              "      width: 32px;\n",
              "    }\n",
              "\n",
              "    .colab-df-convert:hover {\n",
              "      background-color: #E2EBFA;\n",
              "      box-shadow: 0px 1px 2px rgba(60, 64, 67, 0.3), 0px 1px 3px 1px rgba(60, 64, 67, 0.15);\n",
              "      fill: #174EA6;\n",
              "    }\n",
              "\n",
              "    .colab-df-buttons div {\n",
              "      margin-bottom: 4px;\n",
              "    }\n",
              "\n",
              "    [theme=dark] .colab-df-convert {\n",
              "      background-color: #3B4455;\n",
              "      fill: #D2E3FC;\n",
              "    }\n",
              "\n",
              "    [theme=dark] .colab-df-convert:hover {\n",
              "      background-color: #434B5C;\n",
              "      box-shadow: 0px 1px 3px 1px rgba(0, 0, 0, 0.15);\n",
              "      filter: drop-shadow(0px 1px 2px rgba(0, 0, 0, 0.3));\n",
              "      fill: #FFFFFF;\n",
              "    }\n",
              "  </style>\n",
              "\n",
              "    <script>\n",
              "      const buttonEl =\n",
              "        document.querySelector('#df-15161492-13c5-4923-bfc9-5b058e772149 button.colab-df-convert');\n",
              "      buttonEl.style.display =\n",
              "        google.colab.kernel.accessAllowed ? 'block' : 'none';\n",
              "\n",
              "      async function convertToInteractive(key) {\n",
              "        const element = document.querySelector('#df-15161492-13c5-4923-bfc9-5b058e772149');\n",
              "        const dataTable =\n",
              "          await google.colab.kernel.invokeFunction('convertToInteractive',\n",
              "                                                    [key], {});\n",
              "        if (!dataTable) return;\n",
              "\n",
              "        const docLinkHtml = 'Like what you see? Visit the ' +\n",
              "          '<a target=\"_blank\" href=https://colab.research.google.com/notebooks/data_table.ipynb>data table notebook</a>'\n",
              "          + ' to learn more about interactive tables.';\n",
              "        element.innerHTML = '';\n",
              "        dataTable['output_type'] = 'display_data';\n",
              "        await google.colab.output.renderOutput(dataTable, element);\n",
              "        const docLink = document.createElement('div');\n",
              "        docLink.innerHTML = docLinkHtml;\n",
              "        element.appendChild(docLink);\n",
              "      }\n",
              "    </script>\n",
              "  </div>\n",
              "\n",
              "\n",
              "<div id=\"df-666b081a-b69d-4027-b94f-b8dab4fa606d\">\n",
              "  <button class=\"colab-df-quickchart\" onclick=\"quickchart('df-666b081a-b69d-4027-b94f-b8dab4fa606d')\"\n",
              "            title=\"Suggest charts\"\n",
              "            style=\"display:none;\">\n",
              "\n",
              "<svg xmlns=\"http://www.w3.org/2000/svg\" height=\"24px\"viewBox=\"0 0 24 24\"\n",
              "     width=\"24px\">\n",
              "    <g>\n",
              "        <path d=\"M19 3H5c-1.1 0-2 .9-2 2v14c0 1.1.9 2 2 2h14c1.1 0 2-.9 2-2V5c0-1.1-.9-2-2-2zM9 17H7v-7h2v7zm4 0h-2V7h2v10zm4 0h-2v-4h2v4z\"/>\n",
              "    </g>\n",
              "</svg>\n",
              "  </button>\n",
              "\n",
              "<style>\n",
              "  .colab-df-quickchart {\n",
              "      --bg-color: #E8F0FE;\n",
              "      --fill-color: #1967D2;\n",
              "      --hover-bg-color: #E2EBFA;\n",
              "      --hover-fill-color: #174EA6;\n",
              "      --disabled-fill-color: #AAA;\n",
              "      --disabled-bg-color: #DDD;\n",
              "  }\n",
              "\n",
              "  [theme=dark] .colab-df-quickchart {\n",
              "      --bg-color: #3B4455;\n",
              "      --fill-color: #D2E3FC;\n",
              "      --hover-bg-color: #434B5C;\n",
              "      --hover-fill-color: #FFFFFF;\n",
              "      --disabled-bg-color: #3B4455;\n",
              "      --disabled-fill-color: #666;\n",
              "  }\n",
              "\n",
              "  .colab-df-quickchart {\n",
              "    background-color: var(--bg-color);\n",
              "    border: none;\n",
              "    border-radius: 50%;\n",
              "    cursor: pointer;\n",
              "    display: none;\n",
              "    fill: var(--fill-color);\n",
              "    height: 32px;\n",
              "    padding: 0;\n",
              "    width: 32px;\n",
              "  }\n",
              "\n",
              "  .colab-df-quickchart:hover {\n",
              "    background-color: var(--hover-bg-color);\n",
              "    box-shadow: 0 1px 2px rgba(60, 64, 67, 0.3), 0 1px 3px 1px rgba(60, 64, 67, 0.15);\n",
              "    fill: var(--button-hover-fill-color);\n",
              "  }\n",
              "\n",
              "  .colab-df-quickchart-complete:disabled,\n",
              "  .colab-df-quickchart-complete:disabled:hover {\n",
              "    background-color: var(--disabled-bg-color);\n",
              "    fill: var(--disabled-fill-color);\n",
              "    box-shadow: none;\n",
              "  }\n",
              "\n",
              "  .colab-df-spinner {\n",
              "    border: 2px solid var(--fill-color);\n",
              "    border-color: transparent;\n",
              "    border-bottom-color: var(--fill-color);\n",
              "    animation:\n",
              "      spin 1s steps(1) infinite;\n",
              "  }\n",
              "\n",
              "  @keyframes spin {\n",
              "    0% {\n",
              "      border-color: transparent;\n",
              "      border-bottom-color: var(--fill-color);\n",
              "      border-left-color: var(--fill-color);\n",
              "    }\n",
              "    20% {\n",
              "      border-color: transparent;\n",
              "      border-left-color: var(--fill-color);\n",
              "      border-top-color: var(--fill-color);\n",
              "    }\n",
              "    30% {\n",
              "      border-color: transparent;\n",
              "      border-left-color: var(--fill-color);\n",
              "      border-top-color: var(--fill-color);\n",
              "      border-right-color: var(--fill-color);\n",
              "    }\n",
              "    40% {\n",
              "      border-color: transparent;\n",
              "      border-right-color: var(--fill-color);\n",
              "      border-top-color: var(--fill-color);\n",
              "    }\n",
              "    60% {\n",
              "      border-color: transparent;\n",
              "      border-right-color: var(--fill-color);\n",
              "    }\n",
              "    80% {\n",
              "      border-color: transparent;\n",
              "      border-right-color: var(--fill-color);\n",
              "      border-bottom-color: var(--fill-color);\n",
              "    }\n",
              "    90% {\n",
              "      border-color: transparent;\n",
              "      border-bottom-color: var(--fill-color);\n",
              "    }\n",
              "  }\n",
              "</style>\n",
              "\n",
              "  <script>\n",
              "    async function quickchart(key) {\n",
              "      const quickchartButtonEl =\n",
              "        document.querySelector('#' + key + ' button');\n",
              "      quickchartButtonEl.disabled = true;  // To prevent multiple clicks.\n",
              "      quickchartButtonEl.classList.add('colab-df-spinner');\n",
              "      try {\n",
              "        const charts = await google.colab.kernel.invokeFunction(\n",
              "            'suggestCharts', [key], {});\n",
              "      } catch (error) {\n",
              "        console.error('Error during call to suggestCharts:', error);\n",
              "      }\n",
              "      quickchartButtonEl.classList.remove('colab-df-spinner');\n",
              "      quickchartButtonEl.classList.add('colab-df-quickchart-complete');\n",
              "    }\n",
              "    (() => {\n",
              "      let quickchartButtonEl =\n",
              "        document.querySelector('#df-666b081a-b69d-4027-b94f-b8dab4fa606d button');\n",
              "      quickchartButtonEl.style.display =\n",
              "        google.colab.kernel.accessAllowed ? 'block' : 'none';\n",
              "    })();\n",
              "  </script>\n",
              "</div>\n",
              "    </div>\n",
              "  </div>\n"
            ]
          },
          "metadata": {},
          "execution_count": 175
        }
      ]
    },
    {
      "cell_type": "markdown",
      "source": [
        "##3.Preprocess the data and create train set and test set"
      ],
      "metadata": {
        "id": "LjrmoaZfqHnE"
      }
    },
    {
      "cell_type": "code",
      "source": [
        "# Load the DataFrame into Surprise library's Dataset. In SVD  3 common features used are customer id, product id and ratings. Ratings contains latent factors that represent customer preferences.\n",
        "reader = Reader(rating_scale=(1, 5))\n",
        "data = Dataset.load_from_df(df[['customer_id', 'product_id', 'ratings']], reader)\n",
        "\n"
      ],
      "metadata": {
        "id": "RAZLe1HPlVot"
      },
      "execution_count": 176,
      "outputs": []
    },
    {
      "cell_type": "code",
      "source": [
        "# Split the dataset into training and testing sets\n",
        "trainset, testset = train_test_split(data, test_size=0.2, random_state=42)\n"
      ],
      "metadata": {
        "id": "S7BCFASqqc2h"
      },
      "execution_count": 177,
      "outputs": []
    },
    {
      "cell_type": "markdown",
      "source": [
        "##4.Create the Model using SVD (Singular value decomposition)"
      ],
      "metadata": {
        "id": "Na914UPONJR4"
      }
    },
    {
      "cell_type": "code",
      "source": [],
      "metadata": {
        "id": "YvlLDePSfJxT"
      },
      "execution_count": null,
      "outputs": []
    },
    {
      "cell_type": "code",
      "source": [
        "# Use SVD algorithm for collaborative filtering\n",
        "model = SVD()\n",
        "model.fit(trainset)\n"
      ],
      "metadata": {
        "colab": {
          "base_uri": "https://localhost:8080/"
        },
        "id": "pJdVNmbamavO",
        "outputId": "88d9c69d-e4a5-4098-8f1b-e750525e55a9"
      },
      "execution_count": 178,
      "outputs": [
        {
          "output_type": "execute_result",
          "data": {
            "text/plain": [
              "<surprise.prediction_algorithms.matrix_factorization.SVD at 0x7d430a6f7640>"
            ]
          },
          "metadata": {},
          "execution_count": 178
        }
      ]
    },
    {
      "cell_type": "markdown",
      "source": [
        "##5.Test the model using test data"
      ],
      "metadata": {
        "id": "zGySv6YoM_T2"
      }
    },
    {
      "cell_type": "code",
      "source": [
        "# Predictions on test set\n",
        "test_predictions = model.test(testset)\n",
        "\n",
        "# Evaluation on test set - RMSE\n",
        "test_rmse = accuracy.rmse(test_predictions)\n",
        "print(f\"Test RMSE: {test_rmse}\")"
      ],
      "metadata": {
        "colab": {
          "base_uri": "https://localhost:8080/"
        },
        "id": "6C1_RAkbjvuf",
        "outputId": "f79d3ef7-0834-48ca-e72e-92cdd778dbfb"
      },
      "execution_count": 179,
      "outputs": [
        {
          "output_type": "stream",
          "name": "stdout",
          "text": [
            "RMSE: 0.3162\n",
            "Test RMSE: 0.3162277660168382\n"
          ]
        }
      ]
    },
    {
      "cell_type": "markdown",
      "source": [
        "##6.Code below to test the model prediction\n"
      ],
      "metadata": {
        "id": "Dhs-pkWIMPVW"
      }
    },
    {
      "cell_type": "code",
      "source": [
        "# Make predictions for a particular user (example: customer_id = 1)\n",
        "user_id = 4\n",
        "user_predictions = []\n",
        "for item_id in df['product_id'].unique():\n",
        "    pred = model.predict(user_id, item_id)\n",
        "    user_predictions.append({\n",
        "        'user_id': user_id,\n",
        "        'item_id': item_id,\n",
        "        'predicted_rating': pred.est\n",
        "    })\n",
        "\n",
        "# Display predictions for the user\n",
        "user_predictions_df = pd.DataFrame(user_predictions)\n",
        "print(user_predictions_df)"
      ],
      "metadata": {
        "colab": {
          "base_uri": "https://localhost:8080/"
        },
        "id": "7vKgLIBjq-_M",
        "outputId": "cfcd2790-3467-4863-ba9c-3e064f4e21ef"
      },
      "execution_count": 170,
      "outputs": [
        {
          "output_type": "stream",
          "name": "stdout",
          "text": [
            "   user_id  item_id  predicted_rating\n",
            "0        4      101          4.416435\n",
            "1        4      105          4.434552\n",
            "2        4      102          4.344195\n",
            "3        4      103          4.400000\n",
            "4        4      104          4.400000\n"
          ]
        }
      ]
    },
    {
      "cell_type": "markdown",
      "source": [
        "##7. Save the Model"
      ],
      "metadata": {
        "id": "crTQZPfsNf7F"
      }
    },
    {
      "cell_type": "code",
      "source": [],
      "metadata": {
        "id": "bgtnXeY0NibO"
      },
      "execution_count": 129,
      "outputs": []
    },
    {
      "cell_type": "code",
      "source": [
        "#save the model\n",
        "import pickle\n",
        "model_filename = 'collab_filtering_model.pkl'\n",
        "with open(model_filename, 'wb') as file:\n",
        "    pickle.dump(model, file)"
      ],
      "metadata": {
        "id": "Dg7KkFEQs1Sg"
      },
      "execution_count": 171,
      "outputs": []
    },
    {
      "cell_type": "code",
      "source": [],
      "metadata": {
        "id": "KZb9OO-1OZ5x"
      },
      "execution_count": 130,
      "outputs": []
    },
    {
      "cell_type": "markdown",
      "source": [
        "#Below code used for testing purpose"
      ],
      "metadata": {
        "id": "lt80wIbaLyDL"
      }
    },
    {
      "cell_type": "markdown",
      "source": [
        "###1. Load saved Model"
      ],
      "metadata": {
        "id": "-0TPnyCQOQSC"
      }
    },
    {
      "cell_type": "code",
      "source": [
        "#Load the model\n",
        "model_filename = 'collab_filtering_model.pkl'\n",
        "# Load the model from the file\n",
        "with open(model_filename, 'rb') as file:\n",
        "    loaded_model = pickle.load(file)\n",
        "\n",
        "# Now you can use loaded_model for predictions or other tasks\n"
      ],
      "metadata": {
        "id": "wZGGlUUdwxxi"
      },
      "execution_count": 172,
      "outputs": []
    },
    {
      "cell_type": "markdown",
      "source": [
        "###2. Use the loaded model to predict\n"
      ],
      "metadata": {
        "id": "QKrzb1PCLtJ0"
      }
    },
    {
      "cell_type": "code",
      "source": [
        "# Make predictions for a particular user (example: customer_id = 1) using loaded model\n",
        "user_id = 4\n",
        "user_predictions = []\n",
        "for item_id in df['product_id'].unique():\n",
        "    pred = loaded_model.predict(user_id, item_id)\n",
        "    user_predictions.append({\n",
        "        'user_id': user_id,\n",
        "        'item_id': item_id,\n",
        "        'predicted_rating': pred.est\n",
        "    })\n",
        "\n",
        "# Display predictions for the user\n",
        "user_predictions_df = pd.DataFrame(user_predictions)\n",
        "print(user_predictions_df)"
      ],
      "metadata": {
        "colab": {
          "base_uri": "https://localhost:8080/"
        },
        "id": "2F04QtmIxgX2",
        "outputId": "e8b1cbb3-a191-423a-ac06-86fce8651492"
      },
      "execution_count": 173,
      "outputs": [
        {
          "output_type": "stream",
          "name": "stdout",
          "text": [
            "   user_id  item_id  predicted_rating\n",
            "0        4      101          4.416435\n",
            "1        4      105          4.434552\n",
            "2        4      102          4.344195\n",
            "3        4      103          4.400000\n",
            "4        4      104          4.400000\n"
          ]
        }
      ]
    },
    {
      "cell_type": "code",
      "source": [],
      "metadata": {
        "id": "jmZbjqnKxn6Y"
      },
      "execution_count": 132,
      "outputs": []
    }
  ]
}